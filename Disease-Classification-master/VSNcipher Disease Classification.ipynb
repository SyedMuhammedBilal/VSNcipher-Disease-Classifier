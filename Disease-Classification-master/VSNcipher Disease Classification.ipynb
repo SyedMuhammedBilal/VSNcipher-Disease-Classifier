{
 "cells": [
  {
   "cell_type": "code",
   "execution_count": 4,
   "metadata": {},
   "outputs": [],
   "source": [
    "import pandas as pd\n",
    "from sklearn.feature_extraction.text import TfidfVectorizer"
   ]
  },
  {
   "cell_type": "code",
   "execution_count": 19,
   "metadata": {},
   "outputs": [
    {
     "data": {
      "text/plain": [
       "0        diabetes\n",
       "1             flu\n",
       "2        migraine\n",
       "3          stroke\n",
       "4    tuberculosis\n",
       "5          dengue\n",
       "Name: disease, dtype: object"
      ]
     },
     "execution_count": 19,
     "metadata": {},
     "output_type": "execute_result"
    }
   ],
   "source": [
    "#import training data\n",
    "train = pd.read_csv(\"train.csv\")\n",
    "train.symptoms\n",
    "train.disease"
   ]
  },
  {
   "cell_type": "code",
   "execution_count": 20,
   "metadata": {},
   "outputs": [
    {
     "data": {
      "text/plain": [
       "['abdominal_pain',\n",
       " 'arm_weakness',\n",
       " 'back_pain',\n",
       " 'blurred_vision',\n",
       " 'body_pain',\n",
       " 'chest_pain_while_breathing',\n",
       " 'chills',\n",
       " 'confusion',\n",
       " 'cough',\n",
       " 'diarrhoea',\n",
       " 'easy_bruising',\n",
       " 'extreme_hunger',\n",
       " 'eye_pain',\n",
       " 'face_drooping',\n",
       " 'fatigue',\n",
       " 'feeling_very_hot_or_very_cold',\n",
       " 'fever',\n",
       " 'frequent_urination',\n",
       " 'headache',\n",
       " 'heaviness_over_chest_radiating_to_limbs',\n",
       " 'increased_sensitivity_to_light_and_sound',\n",
       " 'increased_thirst',\n",
       " 'intense_headache',\n",
       " 'irritability',\n",
       " 'joint_pain',\n",
       " 'loss_of_appetite',\n",
       " 'loss_of_muscle',\n",
       " 'malaise',\n",
       " 'muscle_pain',\n",
       " 'nausea',\n",
       " 'night_sweats',\n",
       " 'phlegm',\n",
       " 'poor_concentration',\n",
       " 'severe_headache',\n",
       " 'severe_unintentional_weight_loss',\n",
       " 'shortness_of_breath',\n",
       " 'skin_rashes',\n",
       " 'slow_healing_sores',\n",
       " 'sore_throat',\n",
       " 'speech_difficulty',\n",
       " 'sweating',\n",
       " 'swollen_lymph_nodes',\n",
       " 'unexplained_weight_loss',\n",
       " 'vomiting',\n",
       " 'weakness']"
      ]
     },
     "execution_count": 20,
     "metadata": {},
     "output_type": "execute_result"
    }
   ],
   "source": [
    "#vectorizing the symptoms\n",
    "tfid_vectorizer = TfidfVectorizer(min_df=1)\n",
    "X = tfid_vectorizer.fit_transform(train.symptoms)\n",
    "tfid_vectorizer.get_feature_names()"
   ]
  },
  {
   "cell_type": "code",
   "execution_count": 21,
   "metadata": {},
   "outputs": [
    {
     "data": {
      "text/plain": [
       "array(['dengue', 'diabetes', 'flu', 'migraine', 'stroke', 'tuberculosis'],\n",
       "      dtype=object)"
      ]
     },
     "execution_count": 21,
     "metadata": {},
     "output_type": "execute_result"
    }
   ],
   "source": [
    "#vectorizing the disease\n",
    "from sklearn import preprocessing\n",
    "\n",
    "le = preprocessing.LabelEncoder()\n",
    "Y = le.fit_transform(train.disease)\n",
    "le.classes_"
   ]
  },
  {
   "cell_type": "code",
   "execution_count": 22,
   "metadata": {},
   "outputs": [],
   "source": [
    "#fitting the model\n",
    "from sklearn.naive_bayes import MultinomialNB\n",
    "\n",
    "clf = MultinomialNB().fit(X, Y)"
   ]
  },
  {
   "cell_type": "code",
   "execution_count": 23,
   "metadata": {},
   "outputs": [
    {
     "data": {
      "text/plain": [
       "0    body_pain chills cough fever headache sore_thr...\n",
       "Name: symptoms, dtype: object"
      ]
     },
     "execution_count": 23,
     "metadata": {},
     "output_type": "execute_result"
    }
   ],
   "source": [
    "test = pd.read_csv('test.csv')\n",
    "test.symptoms"
   ]
  },
  {
   "cell_type": "code",
   "execution_count": 24,
   "metadata": {},
   "outputs": [],
   "source": [
    "predicted = clf.predict_proba(tfid_vectorizer.transform(test.symptoms))\n",
    "prob = predicted.tolist()[0]\n",
    "prob = [x*100 for x in prob]"
   ]
  },
  {
   "cell_type": "code",
   "execution_count": 25,
   "metadata": {},
   "outputs": [
    {
     "name": "stdout",
     "output_type": "stream",
     "text": [
      "              0          1\n",
      "0        dengue  21.692987\n",
      "1      diabetes  19.169240\n",
      "2           flu  20.144651\n",
      "3      migraine  13.323208\n",
      "4        stroke  12.483462\n",
      "5  tuberculosis  13.186452\n"
     ]
    }
   ],
   "source": [
    "#probabilites of disease\n",
    "output = dict(zip(le.classes_,prob))\n",
    "print(pd.DataFrame(output.items()))"
   ]
  },
  {
   "cell_type": "code",
   "execution_count": 26,
   "metadata": {},
   "outputs": [
    {
     "name": "stdout",
     "output_type": "stream",
     "text": [
      "['dengue']\n"
     ]
    }
   ],
   "source": [
    "#Most probable\n",
    "predicted = clf.predict(tfid_vectorizer.transform(test.symptoms))\n",
    "print(le.classes_[predicted])"
   ]
  },
  {
   "cell_type": "code",
   "execution_count": null,
   "metadata": {},
   "outputs": [],
   "source": []
  }
 ],
 "metadata": {
  "kernelspec": {
   "display_name": "Python 3",
   "language": "python",
   "name": "python3"
  },
  "language_info": {
   "codemirror_mode": {
    "name": "ipython",
    "version": 3
   },
   "file_extension": ".py",
   "mimetype": "text/x-python",
   "name": "python",
   "nbconvert_exporter": "python",
   "pygments_lexer": "ipython3",
   "version": "3.7.4"
  }
 },
 "nbformat": 4,
 "nbformat_minor": 2
}
